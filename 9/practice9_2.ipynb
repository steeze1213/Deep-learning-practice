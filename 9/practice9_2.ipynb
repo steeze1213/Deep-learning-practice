{
  "nbformat": 4,
  "nbformat_minor": 0,
  "metadata": {
    "colab": {
      "provenance": [],
      "authorship_tag": "ABX9TyPFCfBuxgjw0qcNd5IBWu/t",
      "include_colab_link": true
    },
    "kernelspec": {
      "name": "python3",
      "display_name": "Python 3"
    },
    "language_info": {
      "name": "python"
    }
  },
  "cells": [
    {
      "cell_type": "markdown",
      "metadata": {
        "id": "view-in-github",
        "colab_type": "text"
      },
      "source": [
        "<a href=\"https://colab.research.google.com/github/steeze1213/Deep-learning-practice/blob/main/9/practice9_2.ipynb\" target=\"_parent\"><img src=\"https://colab.research.google.com/assets/colab-badge.svg\" alt=\"Open In Colab\"/></a>"
      ]
    },
    {
      "cell_type": "markdown",
      "source": [
        "<h1>C9 텍스트를 위한 인공 신경망</h1>\n",
        "<h2>2. 순환 신경망으로 IMDB 리뷰 분류하기</h2>\n",
        "<h3>IMDB 리뷰 데이터셋</h3>"
      ],
      "metadata": {
        "id": "9kM3009fBwRy"
      }
    },
    {
      "cell_type": "code",
      "execution_count": null,
      "metadata": {
        "colab": {
          "base_uri": "https://localhost:8080/"
        },
        "id": "i-X1F2hnAzaj",
        "outputId": "7b6a0e22-0841-469e-e390-d35b7b46f366"
      },
      "outputs": [
        {
          "output_type": "stream",
          "name": "stdout",
          "text": [
            "Downloading data from https://storage.googleapis.com/tensorflow/tf-keras-datasets/imdb.npz\n",
            "17464789/17464789 [==============================] - 0s 0us/step\n"
          ]
        }
      ],
      "source": [
        "from tensorflow.keras.datasets import imdb\n",
        "\n",
        "(train_input, train_target), (test_input, test_target) = imdb.load_data(\n",
        "    num_words=300)"
      ]
    },
    {
      "cell_type": "code",
      "source": [
        "print(train_input.shape, test_input.shape)"
      ],
      "metadata": {
        "colab": {
          "base_uri": "https://localhost:8080/"
        },
        "id": "_1s5px66DYZH",
        "outputId": "10c2e868-c26f-4c31-c662-e3a3222cb4f3"
      },
      "execution_count": null,
      "outputs": [
        {
          "output_type": "stream",
          "name": "stdout",
          "text": [
            "(25000,) (25000,)\n"
          ]
        }
      ]
    },
    {
      "cell_type": "code",
      "source": [
        "print(len(train_input[0]))"
      ],
      "metadata": {
        "colab": {
          "base_uri": "https://localhost:8080/"
        },
        "id": "RgKTaeN7Dema",
        "outputId": "c23cc3a2-b7a8-41ae-d383-0905a3de7438"
      },
      "execution_count": null,
      "outputs": [
        {
          "output_type": "stream",
          "name": "stdout",
          "text": [
            "218\n"
          ]
        }
      ]
    },
    {
      "cell_type": "code",
      "source": [
        "print(len(train_input[1]))"
      ],
      "metadata": {
        "colab": {
          "base_uri": "https://localhost:8080/"
        },
        "id": "nyo6ZYjODfrg",
        "outputId": "15d67204-e4c8-47c2-bced-e376f7e55f6c"
      },
      "execution_count": null,
      "outputs": [
        {
          "output_type": "stream",
          "name": "stdout",
          "text": [
            "189\n"
          ]
        }
      ]
    },
    {
      "cell_type": "code",
      "source": [
        "print(train_input[0])"
      ],
      "metadata": {
        "colab": {
          "base_uri": "https://localhost:8080/"
        },
        "id": "5VtEyRPgDi4u",
        "outputId": "d7cd3ccb-5edf-4491-998b-adcafbe3511a"
      },
      "execution_count": null,
      "outputs": [
        {
          "output_type": "stream",
          "name": "stdout",
          "text": [
            "[1, 14, 22, 16, 43, 2, 2, 2, 2, 65, 2, 2, 66, 2, 4, 173, 36, 256, 5, 25, 100, 43, 2, 112, 50, 2, 2, 9, 35, 2, 284, 5, 150, 4, 172, 112, 167, 2, 2, 2, 39, 4, 172, 2, 2, 17, 2, 38, 13, 2, 4, 192, 50, 16, 6, 147, 2, 19, 14, 22, 4, 2, 2, 2, 4, 22, 71, 87, 12, 16, 43, 2, 38, 76, 15, 13, 2, 4, 22, 17, 2, 17, 12, 16, 2, 18, 2, 5, 62, 2, 12, 8, 2, 8, 106, 5, 4, 2, 2, 16, 2, 66, 2, 33, 4, 130, 12, 16, 38, 2, 5, 25, 124, 51, 36, 135, 48, 25, 2, 33, 6, 22, 12, 215, 28, 77, 52, 5, 14, 2, 16, 82, 2, 8, 4, 107, 117, 2, 15, 256, 4, 2, 7, 2, 5, 2, 36, 71, 43, 2, 2, 26, 2, 2, 46, 7, 4, 2, 2, 13, 104, 88, 4, 2, 15, 297, 98, 32, 2, 56, 26, 141, 6, 194, 2, 18, 4, 226, 22, 21, 134, 2, 26, 2, 5, 144, 30, 2, 18, 51, 36, 28, 224, 92, 25, 104, 4, 226, 65, 16, 38, 2, 88, 12, 16, 283, 5, 16, 2, 113, 103, 32, 15, 16, 2, 19, 178, 32]\n"
          ]
        }
      ]
    },
    {
      "cell_type": "code",
      "source": [
        "print(train_target[:20])"
      ],
      "metadata": {
        "colab": {
          "base_uri": "https://localhost:8080/"
        },
        "id": "xKsS7gOrDlDf",
        "outputId": "438628cc-b427-49a4-e2be-a33f1f38ccc3"
      },
      "execution_count": null,
      "outputs": [
        {
          "output_type": "stream",
          "name": "stdout",
          "text": [
            "[1 0 0 1 0 0 1 0 1 0 1 0 0 0 0 0 1 1 0 1]\n"
          ]
        }
      ]
    },
    {
      "cell_type": "code",
      "source": [
        "from sklearn.model_selection import train_test_split\n",
        "\n",
        "train_input, val_input, train_target, val_target = train_test_split(\n",
        "    train_input, train_target, test_size=0.2, random_state=42)"
      ],
      "metadata": {
        "id": "_413cZIpDoSB"
      },
      "execution_count": null,
      "outputs": []
    },
    {
      "cell_type": "code",
      "source": [
        "import numpy as np\n",
        "\n",
        "lengths = np.array([len(x) for x in train_input])"
      ],
      "metadata": {
        "id": "37ttMjWpDr4R"
      },
      "execution_count": null,
      "outputs": []
    },
    {
      "cell_type": "code",
      "source": [
        "print(np.mean(lengths), np.median(lengths))"
      ],
      "metadata": {
        "colab": {
          "base_uri": "https://localhost:8080/"
        },
        "id": "hK0CkZH0DuVN",
        "outputId": "eea296b0-584b-4a90-ec3c-deb07e01d407"
      },
      "execution_count": null,
      "outputs": [
        {
          "output_type": "stream",
          "name": "stdout",
          "text": [
            "239.00925 178.0\n"
          ]
        }
      ]
    },
    {
      "cell_type": "code",
      "source": [
        "import matplotlib.pyplot as plt\n",
        "\n",
        "plt.hist(lengths)\n",
        "plt.xlabel('length')\n",
        "plt.ylabel('frequency')\n",
        "plt.show()"
      ],
      "metadata": {
        "colab": {
          "base_uri": "https://localhost:8080/",
          "height": 449
        },
        "id": "_9oBij69DyZL",
        "outputId": "478cceae-be94-4fb4-b765-f9a225ab7bee"
      },
      "execution_count": null,
      "outputs": [
        {
          "output_type": "display_data",
          "data": {
            "text/plain": [
              "<Figure size 640x480 with 1 Axes>"
            ],
            "image/png": "[encoded data removed]"
          },
          "metadata": {}
        }
      ]
    },
    {
      "cell_type": "code",
      "source": [
        "from tensorflow.keras.preprocessing.sequence import pad_sequences\n",
        "\n",
        "train_seq = pad_sequences(train_input, maxlen=100)"
      ],
      "metadata": {
        "id": "WUIxYQdSEA9b"
      },
      "execution_count": null,
      "outputs": []
    },
    {
      "cell_type": "code",
      "source": [
        "print(train_seq.shape)"
      ],
      "metadata": {
        "colab": {
          "base_uri": "https://localhost:8080/"
        },
        "id": "NqUgkwncEE1-",
        "outputId": "b32f4ba8-8323-43c2-f9de-5031ca1730d6"
      },
      "execution_count": null,
      "outputs": [
        {
          "output_type": "stream",
          "name": "stdout",
          "text": [
            "(20000, 100)\n"
          ]
        }
      ]
    },
    {
      "cell_type": "code",
      "source": [
        "print(train_seq[0])"
      ],
      "metadata": {
        "colab": {
          "base_uri": "https://localhost:8080/"
        },
        "id": "fLPRpt99EKvt",
        "outputId": "185df7c0-89f8-4375-cd71-fc47ed67279b"
      },
      "execution_count": null,
      "outputs": [
        {
          "output_type": "stream",
          "name": "stdout",
          "text": [
            "[ 10   4  20   9   2   2   2   5  45   6   2   2  33 269   8   2 142   2\n",
            "   5   2  17  73  17 204   5   2  19  55   2   2  92  66 104  14  20  93\n",
            "  76   2 151  33   4  58  12 188   2 151  12 215  69 224 142  73 237   6\n",
            "   2   7   2   2 188   2 103  14  31  10  10   2   7   2   5   2  80  91\n",
            "   2  30   2  34  14  20 151  50  26 131  49   2  84  46  50  37  80  79\n",
            "   6   2  46   7  14  20  10  10   2 158]\n"
          ]
        }
      ]
    },
    {
      "cell_type": "code",
      "source": [
        "print(train_input[0][-10:])"
      ],
      "metadata": {
        "colab": {
          "base_uri": "https://localhost:8080/"
        },
        "id": "gS03RggqERcU",
        "outputId": "f8a4e98d-2942-43a7-fd58-788399dd63e0"
      },
      "execution_count": null,
      "outputs": [
        {
          "output_type": "stream",
          "name": "stdout",
          "text": [
            "[6, 2, 46, 7, 14, 20, 10, 10, 2, 158]\n"
          ]
        }
      ]
    },
    {
      "cell_type": "code",
      "source": [
        "print(train_seq[5])"
      ],
      "metadata": {
        "colab": {
          "base_uri": "https://localhost:8080/"
        },
        "id": "Jm-U0PJrETwO",
        "outputId": "dfa71497-abc5-4cde-e93c-415e1449ac5a"
      },
      "execution_count": null,
      "outputs": [
        {
          "output_type": "stream",
          "name": "stdout",
          "text": [
            "[  0   0   0   0   1   2 195  19  49   2   2 190   4   2   2   2 183  10\n",
            "  10  13  82  79   4   2  36  71 269   8   2  25  19  49   7   4   2   2\n",
            "   2   2   2  10  10  48  25  40   2  11   2   2  40   2   2   5   4   2\n",
            "   2  95  14 238  56 129   2  10  10  21   2  94   2   2   2   2  11 190\n",
            "  24   2   2   7  94 205   2  10  10  87   2  34  49   2   7   2   2   2\n",
            "   2   2 290   2  46  48  64  18   4   2]\n"
          ]
        }
      ]
    },
    {
      "cell_type": "code",
      "source": [
        "val_seq = pad_sequences(val_input, maxlen=100)"
      ],
      "metadata": {
        "id": "rLJjZRipEbgr"
      },
      "execution_count": null,
      "outputs": []
    },
    {
      "cell_type": "markdown",
      "source": [
        "<h3>순환 신경망 만들기</h3>"
      ],
      "metadata": {
        "id": "99hdkeNgEee6"
      }
    },
    {
      "cell_type": "code",
      "source": [
        "from tensorflow import keras\n",
        "\n",
        "model = keras.Sequential()\n",
        "\n",
        "model.add(keras.layers.SimpleRNN(8, input_shape=(100, 300)))\n",
        "model.add(keras.layers.Dense(1, activation='sigmoid'))"
      ],
      "metadata": {
        "id": "w7Fp0aNzEknU"
      },
      "execution_count": null,
      "outputs": []
    },
    {
      "cell_type": "code",
      "source": [
        "train_oh = keras.utils.to_categorical(train_seq)"
      ],
      "metadata": {
        "id": "NVzqB5eLEnQo"
      },
      "execution_count": null,
      "outputs": []
    },
    {
      "cell_type": "code",
      "source": [
        "print(train_oh.shape)"
      ],
      "metadata": {
        "colab": {
          "base_uri": "https://localhost:8080/"
        },
        "id": "LeltJdYZExQl",
        "outputId": "b99b3fba-8b82-41cc-f98e-dbaf48309ac0"
      },
      "execution_count": null,
      "outputs": [
        {
          "output_type": "stream",
          "name": "stdout",
          "text": [
            "(20000, 100, 300)\n"
          ]
        }
      ]
    },
    {
      "cell_type": "code",
      "source": [
        "print(train_oh[0][0][:12])"
      ],
      "metadata": {
        "colab": {
          "base_uri": "https://localhost:8080/"
        },
        "id": "DOl5g9MOE0lo",
        "outputId": "5a87fd1a-466e-41c5-cf78-f6bf312ca873"
      },
      "execution_count": null,
      "outputs": [
        {
          "output_type": "stream",
          "name": "stdout",
          "text": [
            "[0. 0. 0. 0. 0. 0. 0. 0. 0. 0. 1. 0.]\n"
          ]
        }
      ]
    },
    {
      "cell_type": "code",
      "source": [
        "print(np.sum(train_oh[0][0]))"
      ],
      "metadata": {
        "colab": {
          "base_uri": "https://localhost:8080/"
        },
        "id": "KPR4tko1E2pt",
        "outputId": "91d23266-0cbf-499d-dd88-5ea1907db2d6"
      },
      "execution_count": null,
      "outputs": [
        {
          "output_type": "stream",
          "name": "stdout",
          "text": [
            "1.0\n"
          ]
        }
      ]
    },
    {
      "cell_type": "code",
      "source": [
        "val_oh = keras.utils.to_categorical(val_seq)"
      ],
      "metadata": {
        "id": "r-RXsVoKE3oL"
      },
      "execution_count": null,
      "outputs": []
    },
    {
      "cell_type": "code",
      "source": [
        "model.summary()"
      ],
      "metadata": {
        "colab": {
          "base_uri": "https://localhost:8080/"
        },
        "id": "2NBSS_pfE5-U",
        "outputId": "bb7257ad-76c7-42ad-fd80-39681f65d99b"
      },
      "execution_count": null,
      "outputs": [
        {
          "output_type": "stream",
          "name": "stdout",
          "text": [
            "Model: \"sequential\"\n",
            "_________________________________________________________________\n",
            " Layer (type)                Output Shape              Param #   \n",
            "=================================================================\n",
            " simple_rnn (SimpleRNN)      (None, 8)                 2472      \n",
            "                                                                 \n",
            " dense (Dense)               (None, 1)                 9         \n",
            "                                                                 \n",
            "=================================================================\n",
            "Total params: 2481 (9.69 KB)\n",
            "Trainable params: 2481 (9.69 KB)\n",
            "Non-trainable params: 0 (0.00 Byte)\n",
            "_________________________________________________________________\n"
          ]
        }
      ]
    },
    {
      "cell_type": "markdown",
      "source": [
        "<h3>순환 신경망 훈련하기</h3>"
      ],
      "metadata": {
        "id": "z_B1RrxjE-CG"
      }
    },
    {
      "cell_type": "code",
      "source": [
        "rmsprop = keras.optimizers.RMSprop(learning_rate=1e-4)\n",
        "model.compile(optimizer=rmsprop, loss='binary_crossentropy',\n",
        "              metrics=['accuracy'])\n",
        "\n",
        "checkpoint_cb = keras.callbacks.ModelCheckpoint('best-simplernn-model.h5',\n",
        "                                                save_best_only=True)\n",
        "early_stopping_cb = keras.callbacks.EarlyStopping(patience=3,\n",
        "                                                  restore_best_weights=True)\n",
        "\n",
        "history = model.fit(train_oh, train_target, epochs=100, batch_size=64,\n",
        "                    validation_data=(val_oh, val_target),\n",
        "                    callbacks=[checkpoint_cb, early_stopping_cb])"
      ],
      "metadata": {
        "colab": {
          "base_uri": "https://localhost:8080/"
        },
        "id": "_G6DsIqnFB0M",
        "outputId": "3c9ef312-4d7a-4e66-b9c5-bcc8a8f6fb60"
      },
      "execution_count": null,
      "outputs": [
        {
          "output_type": "stream",
          "name": "stdout",
          "text": [
            "Epoch 1/100\n",
            "313/313 [==============================] - 17s 48ms/step - loss: 0.7058 - accuracy: 0.4928 - val_loss: 0.6990 - val_accuracy: 0.5004\n",
            "Epoch 2/100\n",
            "  7/313 [..............................] - ETA: 7s - loss: 0.6971 - accuracy: 0.5223"
          ]
        },
        {
          "output_type": "stream",
          "name": "stderr",
          "text": [
            "/usr/local/lib/python3.10/dist-packages/keras/src/engine/training.py:3103: UserWarning: You are saving your model as an HDF5 file via `model.save()`. This file format is considered legacy. We recommend using instead the native Keras format, e.g. `model.save('my_model.keras')`.\n",
            "  saving_api.save_model(\n"
          ]
        },
        {
          "output_type": "stream",
          "name": "stdout",
          "text": [
            "313/313 [==============================] - 14s 46ms/step - loss: 0.6977 - accuracy: 0.5050 - val_loss: 0.6954 - val_accuracy: 0.5130\n",
            "Epoch 3/100\n",
            "313/313 [==============================] - 11s 34ms/step - loss: 0.6939 - accuracy: 0.5163 - val_loss: 0.6927 - val_accuracy: 0.5250\n",
            "Epoch 4/100\n",
            "313/313 [==============================] - 12s 38ms/step - loss: 0.6906 - accuracy: 0.5330 - val_loss: 0.6896 - val_accuracy: 0.5438\n",
            "Epoch 5/100\n",
            "313/313 [==============================] - 12s 38ms/step - loss: 0.6856 - accuracy: 0.5553 - val_loss: 0.6821 - val_accuracy: 0.5674\n",
            "Epoch 6/100\n",
            "313/313 [==============================] - 9s 27ms/step - loss: 0.6674 - accuracy: 0.6039 - val_loss: 0.6554 - val_accuracy: 0.6332\n",
            "Epoch 7/100\n",
            "313/313 [==============================] - 10s 31ms/step - loss: 0.6486 - accuracy: 0.6383 - val_loss: 0.6469 - val_accuracy: 0.6410\n",
            "Epoch 8/100\n",
            "313/313 [==============================] - 10s 31ms/step - loss: 0.6357 - accuracy: 0.6581 - val_loss: 0.6312 - val_accuracy: 0.6622\n",
            "Epoch 9/100\n",
            "313/313 [==============================] - 10s 31ms/step - loss: 0.6235 - accuracy: 0.6725 - val_loss: 0.6200 - val_accuracy: 0.6784\n",
            "Epoch 10/100\n",
            "313/313 [==============================] - 10s 32ms/step - loss: 0.6129 - accuracy: 0.6856 - val_loss: 0.6124 - val_accuracy: 0.6854\n",
            "Epoch 11/100\n",
            "313/313 [==============================] - 9s 29ms/step - loss: 0.6025 - accuracy: 0.6963 - val_loss: 0.6066 - val_accuracy: 0.6866\n",
            "Epoch 12/100\n",
            "313/313 [==============================] - 10s 31ms/step - loss: 0.5938 - accuracy: 0.7016 - val_loss: 0.5923 - val_accuracy: 0.7024\n",
            "Epoch 13/100\n",
            "313/313 [==============================] - 10s 32ms/step - loss: 0.5848 - accuracy: 0.7117 - val_loss: 0.5856 - val_accuracy: 0.7114\n",
            "Epoch 14/100\n",
            "313/313 [==============================] - 10s 31ms/step - loss: 0.5773 - accuracy: 0.7182 - val_loss: 0.5791 - val_accuracy: 0.7200\n",
            "Epoch 15/100\n",
            "313/313 [==============================] - 10s 32ms/step - loss: 0.5710 - accuracy: 0.7236 - val_loss: 0.5722 - val_accuracy: 0.7240\n",
            "Epoch 16/100\n",
            "313/313 [==============================] - 9s 27ms/step - loss: 0.5641 - accuracy: 0.7286 - val_loss: 0.5717 - val_accuracy: 0.7150\n",
            "Epoch 17/100\n",
            "313/313 [==============================] - 10s 31ms/step - loss: 0.5587 - accuracy: 0.7318 - val_loss: 0.5626 - val_accuracy: 0.7284\n",
            "Epoch 18/100\n",
            "313/313 [==============================] - 10s 31ms/step - loss: 0.5525 - accuracy: 0.7368 - val_loss: 0.5584 - val_accuracy: 0.7278\n",
            "Epoch 19/100\n",
            "313/313 [==============================] - 10s 31ms/step - loss: 0.5478 - accuracy: 0.7382 - val_loss: 0.5543 - val_accuracy: 0.7306\n",
            "Epoch 20/100\n",
            "313/313 [==============================] - 9s 28ms/step - loss: 0.5431 - accuracy: 0.7436 - val_loss: 0.5497 - val_accuracy: 0.7360\n",
            "Epoch 21/100\n",
            "313/313 [==============================] - 9s 30ms/step - loss: 0.5383 - accuracy: 0.7469 - val_loss: 0.5497 - val_accuracy: 0.7320\n",
            "Epoch 22/100\n",
            "313/313 [==============================] - 10s 32ms/step - loss: 0.5353 - accuracy: 0.7472 - val_loss: 0.5432 - val_accuracy: 0.7390\n",
            "Epoch 23/100\n",
            "313/313 [==============================] - 9s 30ms/step - loss: 0.5316 - accuracy: 0.7502 - val_loss: 0.5416 - val_accuracy: 0.7382\n",
            "Epoch 24/100\n",
            "313/313 [==============================] - 9s 28ms/step - loss: 0.5283 - accuracy: 0.7513 - val_loss: 0.5374 - val_accuracy: 0.7406\n",
            "Epoch 25/100\n",
            "313/313 [==============================] - 9s 27ms/step - loss: 0.5253 - accuracy: 0.7528 - val_loss: 0.5366 - val_accuracy: 0.7406\n",
            "Epoch 26/100\n",
            "313/313 [==============================] - 10s 31ms/step - loss: 0.5226 - accuracy: 0.7539 - val_loss: 0.5370 - val_accuracy: 0.7406\n",
            "Epoch 27/100\n",
            "313/313 [==============================] - 10s 31ms/step - loss: 0.5204 - accuracy: 0.7552 - val_loss: 0.5305 - val_accuracy: 0.7440\n",
            "Epoch 28/100\n",
            "313/313 [==============================] - 11s 34ms/step - loss: 0.5177 - accuracy: 0.7563 - val_loss: 0.5285 - val_accuracy: 0.7458\n",
            "Epoch 29/100\n",
            "313/313 [==============================] - 9s 28ms/step - loss: 0.5161 - accuracy: 0.7560 - val_loss: 0.5299 - val_accuracy: 0.7408\n",
            "Epoch 30/100\n",
            "313/313 [==============================] - 10s 31ms/step - loss: 0.5139 - accuracy: 0.7605 - val_loss: 0.5268 - val_accuracy: 0.7468\n",
            "Epoch 31/100\n",
            "313/313 [==============================] - 10s 31ms/step - loss: 0.5118 - accuracy: 0.7580 - val_loss: 0.5251 - val_accuracy: 0.7436\n",
            "Epoch 32/100\n",
            "313/313 [==============================] - 10s 30ms/step - loss: 0.5097 - accuracy: 0.7628 - val_loss: 0.5229 - val_accuracy: 0.7480\n",
            "Epoch 33/100\n",
            "313/313 [==============================] - 9s 28ms/step - loss: 0.5079 - accuracy: 0.7618 - val_loss: 0.5210 - val_accuracy: 0.7510\n",
            "Epoch 34/100\n",
            "313/313 [==============================] - 9s 30ms/step - loss: 0.5067 - accuracy: 0.7642 - val_loss: 0.5236 - val_accuracy: 0.7418\n",
            "Epoch 35/100\n",
            "313/313 [==============================] - 10s 31ms/step - loss: 0.5046 - accuracy: 0.7637 - val_loss: 0.5262 - val_accuracy: 0.7454\n",
            "Epoch 36/100\n",
            "313/313 [==============================] - 10s 31ms/step - loss: 0.5037 - accuracy: 0.7657 - val_loss: 0.5229 - val_accuracy: 0.7470\n"
          ]
        }
      ]
    },
    {
      "cell_type": "code",
      "source": [
        "plt.plot(history.history['loss'])\n",
        "plt.plot(history.history['val_loss'])\n",
        "plt.xlabel('epoch')\n",
        "plt.ylabel('loss')\n",
        "plt.legend(['train', 'val'])\n",
        "plt.show()"
      ],
      "metadata": {
        "colab": {
          "base_uri": "https://localhost:8080/",
          "height": 449
        },
        "id": "zhuvjtt5FHtG",
        "outputId": "673cdafa-bb72-4f59-8d08-27d90e15ca8c"
      },
      "execution_count": null,
      "outputs": [
        {
          "output_type": "display_data",
          "data": {
            "text/plain": [
              "<Figure size 640x480 with 1 Axes>"
            ],
            "image/png": "[encoded data removed]"
          },
          "metadata": {}
        }
      ]
    },
    {
      "cell_type": "markdown",
      "source": [
        "<h3>단어 임베딩을 사용하기</h3>"
      ],
      "metadata": {
        "id": "uTufx9jcFNnb"
      }
    },
    {
      "cell_type": "code",
      "source": [
        "model2 = keras.Sequential()\n",
        "\n",
        "model2.add(keras.layers.Embedding(300, 16, input_length=100))\n",
        "model2.add(keras.layers.SimpleRNN(8))\n",
        "model2.add(keras.layers.Dense(1, activation='sigmoid'))\n",
        "\n",
        "model2.summary()"
      ],
      "metadata": {
        "colab": {
          "base_uri": "https://localhost:8080/"
        },
        "id": "4MAcZtd9FLRq",
        "outputId": "c86ed26a-cac1-4450-82d0-4c10f8db6998"
      },
      "execution_count": null,
      "outputs": [
        {
          "output_type": "stream",
          "name": "stdout",
          "text": [
            "Model: \"sequential_1\"\n",
            "_________________________________________________________________\n",
            " Layer (type)                Output Shape              Param #   \n",
            "=================================================================\n",
            " embedding (Embedding)       (None, 100, 16)           4800      \n",
            "                                                                 \n",
            " simple_rnn_1 (SimpleRNN)    (None, 8)                 200       \n",
            "                                                                 \n",
            " dense_1 (Dense)             (None, 1)                 9         \n",
            "                                                                 \n",
            "=================================================================\n",
            "Total params: 5009 (19.57 KB)\n",
            "Trainable params: 5009 (19.57 KB)\n",
            "Non-trainable params: 0 (0.00 Byte)\n",
            "_________________________________________________________________\n"
          ]
        }
      ]
    },
    {
      "cell_type": "code",
      "source": [
        "rmsprop = keras.optimizers.RMSprop(learning_rate=1e-4)\n",
        "model2.compile(optimizer=rmsprop, loss='binary_crossentropy',\n",
        "               metrics=['accuracy'])\n",
        "\n",
        "checkpoint_cb = keras.callbacks.ModelCheckpoint('best-embedding-model.h5',\n",
        "                                                save_best_only=True)\n",
        "early_stopping_cb = keras.callbacks.EarlyStopping(patience=3,\n",
        "                                                  restore_best_weights=True)\n",
        "\n",
        "history = model2.fit(train_seq, train_target, epochs=100, batch_size=64,\n",
        "                     validation_data=(val_seq, val_target),\n",
        "                     callbacks=[checkpoint_cb, early_stopping_cb])"
      ],
      "metadata": {
        "colab": {
          "base_uri": "https://localhost:8080/"
        },
        "id": "ykkEYtQOFSHc",
        "outputId": "054c3f8d-ccd8-47da-f3f2-ca72c853b622"
      },
      "execution_count": null,
      "outputs": [
        {
          "output_type": "stream",
          "name": "stdout",
          "text": [
            "Epoch 1/100\n",
            "313/313 [==============================] - 9s 24ms/step - loss: 0.6734 - accuracy: 0.5880 - val_loss: 0.6498 - val_accuracy: 0.6452\n",
            "Epoch 2/100\n",
            "313/313 [==============================] - 7s 21ms/step - loss: 0.6367 - accuracy: 0.6733 - val_loss: 0.6291 - val_accuracy: 0.6788\n",
            "Epoch 3/100\n",
            "313/313 [==============================] - 7s 24ms/step - loss: 0.6184 - accuracy: 0.6969 - val_loss: 0.6124 - val_accuracy: 0.7110\n",
            "Epoch 4/100\n",
            "313/313 [==============================] - 7s 21ms/step - loss: 0.6040 - accuracy: 0.7128 - val_loss: 0.6072 - val_accuracy: 0.6988\n",
            "Epoch 5/100\n",
            "313/313 [==============================] - 8s 24ms/step - loss: 0.5924 - accuracy: 0.7222 - val_loss: 0.5924 - val_accuracy: 0.7170\n",
            "Epoch 6/100\n",
            "313/313 [==============================] - 7s 21ms/step - loss: 0.5817 - accuracy: 0.7299 - val_loss: 0.5796 - val_accuracy: 0.7224\n",
            "Epoch 7/100\n",
            "313/313 [==============================] - 7s 23ms/step - loss: 0.5717 - accuracy: 0.7340 - val_loss: 0.5691 - val_accuracy: 0.7388\n",
            "Epoch 8/100\n",
            "313/313 [==============================] - 8s 24ms/step - loss: 0.5618 - accuracy: 0.7426 - val_loss: 0.5693 - val_accuracy: 0.7336\n",
            "Epoch 9/100\n",
            "313/313 [==============================] - 7s 21ms/step - loss: 0.5530 - accuracy: 0.7484 - val_loss: 0.5539 - val_accuracy: 0.7430\n",
            "Epoch 10/100\n",
            "313/313 [==============================] - 7s 23ms/step - loss: 0.5453 - accuracy: 0.7499 - val_loss: 0.5493 - val_accuracy: 0.7430\n",
            "Epoch 11/100\n",
            "313/313 [==============================] - 7s 21ms/step - loss: 0.5379 - accuracy: 0.7526 - val_loss: 0.5420 - val_accuracy: 0.7440\n",
            "Epoch 12/100\n",
            "313/313 [==============================] - 8s 24ms/step - loss: 0.5310 - accuracy: 0.7566 - val_loss: 0.5407 - val_accuracy: 0.7362\n",
            "Epoch 13/100\n",
            "313/313 [==============================] - 7s 23ms/step - loss: 0.5248 - accuracy: 0.7594 - val_loss: 0.5334 - val_accuracy: 0.7478\n",
            "Epoch 14/100\n",
            "313/313 [==============================] - 7s 22ms/step - loss: 0.5190 - accuracy: 0.7613 - val_loss: 0.5285 - val_accuracy: 0.7506\n",
            "Epoch 15/100\n",
            "313/313 [==============================] - 8s 24ms/step - loss: 0.5143 - accuracy: 0.7653 - val_loss: 0.5251 - val_accuracy: 0.7516\n",
            "Epoch 16/100\n",
            "313/313 [==============================] - 6s 20ms/step - loss: 0.5098 - accuracy: 0.7665 - val_loss: 0.5228 - val_accuracy: 0.7498\n",
            "Epoch 17/100\n",
            "313/313 [==============================] - 8s 24ms/step - loss: 0.5054 - accuracy: 0.7677 - val_loss: 0.5213 - val_accuracy: 0.7522\n",
            "Epoch 18/100\n",
            "313/313 [==============================] - 7s 21ms/step - loss: 0.5017 - accuracy: 0.7686 - val_loss: 0.5197 - val_accuracy: 0.7518\n",
            "Epoch 19/100\n",
            "313/313 [==============================] - 8s 24ms/step - loss: 0.4987 - accuracy: 0.7707 - val_loss: 0.5184 - val_accuracy: 0.7534\n",
            "Epoch 20/100\n",
            "313/313 [==============================] - 7s 23ms/step - loss: 0.4964 - accuracy: 0.7713 - val_loss: 0.5178 - val_accuracy: 0.7474\n",
            "Epoch 21/100\n",
            "313/313 [==============================] - 7s 21ms/step - loss: 0.4934 - accuracy: 0.7710 - val_loss: 0.5177 - val_accuracy: 0.7496\n",
            "Epoch 22/100\n",
            "313/313 [==============================] - 8s 24ms/step - loss: 0.4909 - accuracy: 0.7740 - val_loss: 0.5154 - val_accuracy: 0.7522\n",
            "Epoch 23/100\n",
            "313/313 [==============================] - 7s 21ms/step - loss: 0.4888 - accuracy: 0.7747 - val_loss: 0.5157 - val_accuracy: 0.7482\n",
            "Epoch 24/100\n",
            "313/313 [==============================] - 8s 24ms/step - loss: 0.4868 - accuracy: 0.7747 - val_loss: 0.5143 - val_accuracy: 0.7536\n",
            "Epoch 25/100\n",
            "313/313 [==============================] - 7s 22ms/step - loss: 0.4851 - accuracy: 0.7758 - val_loss: 0.5139 - val_accuracy: 0.7504\n",
            "Epoch 26/100\n",
            "313/313 [==============================] - 7s 22ms/step - loss: 0.4837 - accuracy: 0.7764 - val_loss: 0.5144 - val_accuracy: 0.7520\n",
            "Epoch 27/100\n",
            "313/313 [==============================] - 8s 24ms/step - loss: 0.4820 - accuracy: 0.7787 - val_loss: 0.5172 - val_accuracy: 0.7508\n",
            "Epoch 28/100\n",
            "313/313 [==============================] - 7s 21ms/step - loss: 0.4807 - accuracy: 0.7786 - val_loss: 0.5138 - val_accuracy: 0.7498\n",
            "Epoch 29/100\n",
            "313/313 [==============================] - 7s 24ms/step - loss: 0.4795 - accuracy: 0.7779 - val_loss: 0.5156 - val_accuracy: 0.7488\n",
            "Epoch 30/100\n",
            "313/313 [==============================] - 6s 21ms/step - loss: 0.4778 - accuracy: 0.7804 - val_loss: 0.5145 - val_accuracy: 0.7462\n",
            "Epoch 31/100\n",
            "313/313 [==============================] - 8s 24ms/step - loss: 0.4763 - accuracy: 0.7799 - val_loss: 0.5144 - val_accuracy: 0.7502\n"
          ]
        }
      ]
    },
    {
      "cell_type": "code",
      "source": [
        "plt.plot(history.history['loss'])\n",
        "plt.plot(history.history['val_loss'])\n",
        "plt.xlabel('epoch')\n",
        "plt.ylabel('loss')\n",
        "plt.legend(['train', 'val'])\n",
        "plt.show()"
      ],
      "metadata": {
        "colab": {
          "base_uri": "https://localhost:8080/",
          "height": 449
        },
        "id": "NdQBd3LGFWel",
        "outputId": "1c388c67-a70d-42a4-a456-11645188fce6"
      },
      "execution_count": null,
      "outputs": [
        {
          "output_type": "display_data",
          "data": {
            "text/plain": [
              "<Figure size 640x480 with 1 Axes>"
            ],
            "image/png": "[encoded data removed]"
          },
          "metadata": {}
        }
      ]
    }
  ]
}