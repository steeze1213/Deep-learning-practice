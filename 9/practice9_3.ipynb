{
  "nbformat": 4,
  "nbformat_minor": 0,
  "metadata": {
    "colab": {
      "provenance": [],
      "authorship_tag": "ABX9TyOLJNi+jyLYvjgJOmL9l8Ld",
      "include_colab_link": true
    },
    "kernelspec": {
      "name": "python3",
      "display_name": "Python 3"
    },
    "language_info": {
      "name": "python"
    }
  },
  "cells": [
    {
      "cell_type": "markdown",
      "metadata": {
        "id": "view-in-github",
        "colab_type": "text"
      },
      "source": [
        "<a href=\"https://colab.research.google.com/github/steeze1213/Deep-learning-practice/blob/main/9/practice9_3.ipynb\" target=\"_parent\"><img src=\"https://colab.research.google.com/assets/colab-badge.svg\" alt=\"Open In Colab\"/></a>"
      ]
    },
    {
      "cell_type": "markdown",
      "source": [
        "<h1>C9 텍스트를 위한 인공 신경망</h1>\n",
        "<h2>3. LSTM과 GRU 셀</h2>\n",
        "<h3>LSTM 신경망 훈련하기</h3>"
      ],
      "metadata": {
        "id": "17Cll9qCL0J4"
      }
    },
    {
      "cell_type": "code",
      "execution_count": null,
      "metadata": {
        "colab": {
          "base_uri": "https://localhost:8080/"
        },
        "id": "PxJcNs6xHa6l",
        "outputId": "f80824a8-5777-4d74-a128-ee6015258c58"
      },
      "outputs": [
        {
          "output_type": "stream",
          "name": "stdout",
          "text": [
            "Downloading data from https://storage.googleapis.com/tensorflow/tf-keras-datasets/imdb.npz\n",
            "17464789/17464789 [==============================] - 0s 0us/step\n"
          ]
        }
      ],
      "source": [
        "from tensorflow.keras.datasets import imdb\n",
        "from sklearn.model_selection import train_test_split\n",
        "\n",
        "(train_input, train_target), (test_input, test_target) = imdb.load_data(\n",
        "    num_words=500)\n",
        "\n",
        "train_input, val_input, train_target, val_target = train_test_split(\n",
        "    train_input, train_target, test_size=0.2, random_state=42)"
      ]
    },
    {
      "cell_type": "code",
      "source": [
        "from tensorflow.keras.preprocessing.sequence import pad_sequences\n",
        "\n",
        "train_seq = pad_sequences(train_input, maxlen=100)\n",
        "val_seq = pad_sequences(val_input, maxlen=100)"
      ],
      "metadata": {
        "id": "EmpkDl0FP6kP"
      },
      "execution_count": null,
      "outputs": []
    },
    {
      "cell_type": "code",
      "source": [
        "from tensorflow import keras\n",
        "\n",
        "model = keras.Sequential()\n",
        "\n",
        "model.add(keras.layers.Embedding(500, 16, input_length=100))\n",
        "model.add(keras.layers.LSTM(8))\n",
        "model.add(keras.layers.Dense(1, activation='sigmoid'))\n",
        "\n",
        "model.summary()"
      ],
      "metadata": {
        "colab": {
          "base_uri": "https://localhost:8080/"
        },
        "id": "JL3SCtGdP-Rv",
        "outputId": "7b60e2dc-e087-4974-b119-25f8f9c0c178"
      },
      "execution_count": null,
      "outputs": [
        {
          "output_type": "stream",
          "name": "stdout",
          "text": [
            "Model: \"sequential\"\n",
            "_________________________________________________________________\n",
            " Layer (type)                Output Shape              Param #   \n",
            "=================================================================\n",
            " embedding (Embedding)       (None, 100, 16)           8000      \n",
            "                                                                 \n",
            " lstm (LSTM)                 (None, 8)                 800       \n",
            "                                                                 \n",
            " dense (Dense)               (None, 1)                 9         \n",
            "                                                                 \n",
            "=================================================================\n",
            "Total params: 8809 (34.41 KB)\n",
            "Trainable params: 8809 (34.41 KB)\n",
            "Non-trainable params: 0 (0.00 Byte)\n",
            "_________________________________________________________________\n"
          ]
        }
      ]
    },
    {
      "cell_type": "code",
      "source": [
        "rmsprop = keras.optimizers.RMSprop(learning_rate=1e-4)\n",
        "model.compile(optimizer=rmsprop, loss='binary_crossentropy',\n",
        "              metrics=['accuracy'])\n",
        "\n",
        "checkpoint_cb = keras.callbacks.ModelCheckpoint('best-lstm-model.h5',\n",
        "                                                save_best_only=True)\n",
        "early_stopping_cb = keras.callbacks.EarlyStopping(patience=3,\n",
        "                                                  restore_best_weights=True)\n",
        "\n",
        "history = model.fit(train_seq, train_target, epochs=100, batch_size=64,\n",
        "                    validation_data=(val_seq, val_target),\n",
        "                    callbacks=[checkpoint_cb, early_stopping_cb])"
      ],
      "metadata": {
        "colab": {
          "base_uri": "https://localhost:8080/"
        },
        "id": "zmmxw_L3QUt2",
        "outputId": "be90b29d-2609-4891-cee9-29a3499e432f"
      },
      "execution_count": null,
      "outputs": [
        {
          "output_type": "stream",
          "name": "stdout",
          "text": [
            "Epoch 1/100\n",
            "313/313 [==============================] - 15s 39ms/step - loss: 0.6927 - accuracy: 0.5168 - val_loss: 0.6920 - val_accuracy: 0.5582\n",
            "Epoch 2/100\n",
            "  5/313 [..............................] - ETA: 9s - loss: 0.6909 - accuracy: 0.5844"
          ]
        },
        {
          "output_type": "stream",
          "name": "stderr",
          "text": [
            "/usr/local/lib/python3.10/dist-packages/keras/src/engine/training.py:3103: UserWarning: You are saving your model as an HDF5 file via `model.save()`. This file format is considered legacy. We recommend using instead the native Keras format, e.g. `model.save('my_model.keras')`.\n",
            "  saving_api.save_model(\n"
          ]
        },
        {
          "output_type": "stream",
          "name": "stdout",
          "text": [
            "313/313 [==============================] - 11s 36ms/step - loss: 0.6914 - accuracy: 0.5656 - val_loss: 0.6906 - val_accuracy: 0.5944\n",
            "Epoch 3/100\n",
            "313/313 [==============================] - 12s 38ms/step - loss: 0.6892 - accuracy: 0.6040 - val_loss: 0.6877 - val_accuracy: 0.6098\n",
            "Epoch 4/100\n",
            "313/313 [==============================] - 12s 38ms/step - loss: 0.6841 - accuracy: 0.6345 - val_loss: 0.6798 - val_accuracy: 0.6420\n",
            "Epoch 5/100\n",
            "313/313 [==============================] - 12s 38ms/step - loss: 0.6561 - accuracy: 0.6712 - val_loss: 0.6306 - val_accuracy: 0.7010\n",
            "Epoch 6/100\n",
            "313/313 [==============================] - 13s 42ms/step - loss: 0.6096 - accuracy: 0.7162 - val_loss: 0.6035 - val_accuracy: 0.7168\n",
            "Epoch 7/100\n",
            "313/313 [==============================] - 20s 63ms/step - loss: 0.5858 - accuracy: 0.7333 - val_loss: 0.5819 - val_accuracy: 0.7340\n",
            "Epoch 8/100\n",
            "313/313 [==============================] - 16s 53ms/step - loss: 0.5633 - accuracy: 0.7506 - val_loss: 0.5636 - val_accuracy: 0.7494\n",
            "Epoch 9/100\n",
            "313/313 [==============================] - 16s 51ms/step - loss: 0.5432 - accuracy: 0.7635 - val_loss: 0.5430 - val_accuracy: 0.7566\n",
            "Epoch 10/100\n",
            "313/313 [==============================] - 18s 59ms/step - loss: 0.5250 - accuracy: 0.7721 - val_loss: 0.5247 - val_accuracy: 0.7654\n",
            "Epoch 11/100\n",
            "313/313 [==============================] - 14s 46ms/step - loss: 0.5086 - accuracy: 0.7790 - val_loss: 0.5098 - val_accuracy: 0.7726\n",
            "Epoch 12/100\n",
            "313/313 [==============================] - 14s 45ms/step - loss: 0.4936 - accuracy: 0.7849 - val_loss: 0.4974 - val_accuracy: 0.7796\n",
            "Epoch 13/100\n",
            "313/313 [==============================] - 14s 44ms/step - loss: 0.4803 - accuracy: 0.7901 - val_loss: 0.4856 - val_accuracy: 0.7848\n",
            "Epoch 14/100\n",
            "313/313 [==============================] - 15s 49ms/step - loss: 0.4695 - accuracy: 0.7949 - val_loss: 0.4785 - val_accuracy: 0.7850\n",
            "Epoch 15/100\n",
            "313/313 [==============================] - 14s 44ms/step - loss: 0.4593 - accuracy: 0.7983 - val_loss: 0.4683 - val_accuracy: 0.7894\n",
            "Epoch 16/100\n",
            "313/313 [==============================] - 14s 45ms/step - loss: 0.4522 - accuracy: 0.8014 - val_loss: 0.4621 - val_accuracy: 0.7896\n",
            "Epoch 17/100\n",
            "313/313 [==============================] - 14s 45ms/step - loss: 0.4462 - accuracy: 0.8048 - val_loss: 0.4586 - val_accuracy: 0.7886\n",
            "Epoch 18/100\n",
            "313/313 [==============================] - 14s 46ms/step - loss: 0.4408 - accuracy: 0.8063 - val_loss: 0.4588 - val_accuracy: 0.7916\n",
            "Epoch 19/100\n",
            "313/313 [==============================] - 12s 40ms/step - loss: 0.4365 - accuracy: 0.8080 - val_loss: 0.4524 - val_accuracy: 0.7904\n",
            "Epoch 20/100\n",
            "313/313 [==============================] - 14s 46ms/step - loss: 0.4329 - accuracy: 0.8091 - val_loss: 0.4478 - val_accuracy: 0.7956\n",
            "Epoch 21/100\n",
            "313/313 [==============================] - 13s 40ms/step - loss: 0.4301 - accuracy: 0.8101 - val_loss: 0.4476 - val_accuracy: 0.7932\n",
            "Epoch 22/100\n",
            "313/313 [==============================] - 13s 42ms/step - loss: 0.4275 - accuracy: 0.8117 - val_loss: 0.4443 - val_accuracy: 0.7966\n",
            "Epoch 23/100\n",
            "313/313 [==============================] - 12s 40ms/step - loss: 0.4252 - accuracy: 0.8128 - val_loss: 0.4433 - val_accuracy: 0.7986\n",
            "Epoch 24/100\n",
            "313/313 [==============================] - 12s 39ms/step - loss: 0.4231 - accuracy: 0.8123 - val_loss: 0.4437 - val_accuracy: 0.7964\n",
            "Epoch 25/100\n",
            "313/313 [==============================] - 12s 39ms/step - loss: 0.4212 - accuracy: 0.8119 - val_loss: 0.4406 - val_accuracy: 0.7982\n",
            "Epoch 26/100\n",
            "313/313 [==============================] - 12s 39ms/step - loss: 0.4196 - accuracy: 0.8144 - val_loss: 0.4396 - val_accuracy: 0.7954\n",
            "Epoch 27/100\n",
            "313/313 [==============================] - 12s 40ms/step - loss: 0.4180 - accuracy: 0.8144 - val_loss: 0.4380 - val_accuracy: 0.8000\n",
            "Epoch 28/100\n",
            "313/313 [==============================] - 12s 37ms/step - loss: 0.4170 - accuracy: 0.8162 - val_loss: 0.4377 - val_accuracy: 0.8008\n",
            "Epoch 29/100\n",
            "313/313 [==============================] - 12s 38ms/step - loss: 0.4153 - accuracy: 0.8166 - val_loss: 0.4359 - val_accuracy: 0.8020\n",
            "Epoch 30/100\n",
            "313/313 [==============================] - 12s 38ms/step - loss: 0.4142 - accuracy: 0.8173 - val_loss: 0.4361 - val_accuracy: 0.8010\n",
            "Epoch 31/100\n",
            "313/313 [==============================] - 12s 39ms/step - loss: 0.4129 - accuracy: 0.8166 - val_loss: 0.4375 - val_accuracy: 0.7964\n",
            "Epoch 32/100\n",
            "313/313 [==============================] - 12s 37ms/step - loss: 0.4120 - accuracy: 0.8177 - val_loss: 0.4336 - val_accuracy: 0.8014\n",
            "Epoch 33/100\n",
            "313/313 [==============================] - 12s 38ms/step - loss: 0.4111 - accuracy: 0.8173 - val_loss: 0.4376 - val_accuracy: 0.8022\n",
            "Epoch 34/100\n",
            "313/313 [==============================] - 12s 38ms/step - loss: 0.4100 - accuracy: 0.8178 - val_loss: 0.4343 - val_accuracy: 0.8024\n",
            "Epoch 35/100\n",
            "313/313 [==============================] - 12s 39ms/step - loss: 0.4088 - accuracy: 0.8195 - val_loss: 0.4326 - val_accuracy: 0.8040\n",
            "Epoch 36/100\n",
            "313/313 [==============================] - 12s 38ms/step - loss: 0.4083 - accuracy: 0.8188 - val_loss: 0.4341 - val_accuracy: 0.7970\n",
            "Epoch 37/100\n",
            "313/313 [==============================] - 12s 38ms/step - loss: 0.4073 - accuracy: 0.8195 - val_loss: 0.4300 - val_accuracy: 0.8024\n",
            "Epoch 38/100\n",
            "313/313 [==============================] - 11s 36ms/step - loss: 0.4061 - accuracy: 0.8198 - val_loss: 0.4339 - val_accuracy: 0.7968\n",
            "Epoch 39/100\n",
            "313/313 [==============================] - 12s 40ms/step - loss: 0.4053 - accuracy: 0.8193 - val_loss: 0.4291 - val_accuracy: 0.8010\n",
            "Epoch 40/100\n",
            "313/313 [==============================] - 12s 39ms/step - loss: 0.4049 - accuracy: 0.8196 - val_loss: 0.4303 - val_accuracy: 0.8046\n",
            "Epoch 41/100\n",
            "313/313 [==============================] - 12s 38ms/step - loss: 0.4042 - accuracy: 0.8187 - val_loss: 0.4280 - val_accuracy: 0.8036\n",
            "Epoch 42/100\n",
            "313/313 [==============================] - 12s 38ms/step - loss: 0.4031 - accuracy: 0.8205 - val_loss: 0.4281 - val_accuracy: 0.8018\n",
            "Epoch 43/100\n",
            "313/313 [==============================] - 12s 38ms/step - loss: 0.4023 - accuracy: 0.8216 - val_loss: 0.4280 - val_accuracy: 0.8028\n",
            "Epoch 44/100\n",
            "313/313 [==============================] - 11s 34ms/step - loss: 0.4015 - accuracy: 0.8219 - val_loss: 0.4326 - val_accuracy: 0.7954\n"
          ]
        }
      ]
    },
    {
      "cell_type": "code",
      "source": [
        "import matplotlib.pyplot as plt\n",
        "\n",
        "plt.plot(history.history['loss'])\n",
        "plt.plot(history.history['val_loss'])\n",
        "plt.xlabel('epoch')\n",
        "plt.ylabel('loss')\n",
        "plt.legend(['train', 'val'])\n",
        "plt.show()"
      ],
      "metadata": {
        "colab": {
          "base_uri": "https://localhost:8080/",
          "height": 449
        },
        "id": "hbsgxlr3QoWC",
        "outputId": "1c9643f3-6f25-4d43-abff-10cfe41e6cc3"
      },
      "execution_count": null,
      "outputs": [
        {
          "output_type": "display_data",
          "data": {
            "text/plain": [
              "<Figure size 640x480 with 1 Axes>"
            ],
            "image/png": "[encoded data removed]"
          },
          "metadata": {}
        }
      ]
    },
    {
      "cell_type": "markdown",
      "source": [
        "<h3>순환 층에 드롭아웃 적용하기</h3>"
      ],
      "metadata": {
        "id": "G2_OmEbSQrUu"
      }
    },
    {
      "cell_type": "code",
      "source": [
        "model2 = keras.Sequential()\n",
        "\n",
        "model2.add(keras.layers.Embedding(500, 16, input_length=100))\n",
        "model2.add(keras.layers.LSTM(8, dropout=0.3))\n",
        "model2.add(keras.layers.Dense(1, activation='sigmoid'))"
      ],
      "metadata": {
        "id": "FtsdBNRUQu1y"
      },
      "execution_count": null,
      "outputs": []
    },
    {
      "cell_type": "code",
      "source": [
        "rmsprop = keras.optimizers.RMSprop(learning_rate=1e-4)\n",
        "model2.compile(optimizer=rmsprop, loss='binary_crossentropy',\n",
        "               metrics=['accuracy'])\n",
        "\n",
        "checkpoint_cb = keras.callbacks.ModelCheckpoint('best-dropout-model.h5',\n",
        "                                                save_best_only=True)\n",
        "early_stopping_cb = keras.callbacks.EarlyStopping(patience=3,\n",
        "                                                  restore_best_weights=True)\n",
        "\n",
        "history = model2.fit(train_seq, train_target, epochs=100, batch_size=64,\n",
        "                     validation_data=(val_seq, val_target),\n",
        "                     callbacks=[checkpoint_cb, early_stopping_cb])"
      ],
      "metadata": {
        "colab": {
          "base_uri": "https://localhost:8080/"
        },
        "id": "MaBT6_7qQ1Kz",
        "outputId": "42104d5b-4ee3-4db7-d096-5e3294b30a37"
      },
      "execution_count": null,
      "outputs": [
        {
          "output_type": "stream",
          "name": "stdout",
          "text": [
            "Epoch 1/100\n",
            "313/313 [==============================] - 14s 40ms/step - loss: 0.6926 - accuracy: 0.5250 - val_loss: 0.6920 - val_accuracy: 0.5630\n",
            "Epoch 2/100\n",
            "313/313 [==============================] - 12s 38ms/step - loss: 0.6910 - accuracy: 0.5730 - val_loss: 0.6901 - val_accuracy: 0.6108\n",
            "Epoch 3/100\n",
            "313/313 [==============================] - 12s 38ms/step - loss: 0.6879 - accuracy: 0.6143 - val_loss: 0.6851 - val_accuracy: 0.6444\n",
            "Epoch 4/100\n",
            "313/313 [==============================] - 12s 38ms/step - loss: 0.6775 - accuracy: 0.6532 - val_loss: 0.6639 - val_accuracy: 0.6862\n",
            "Epoch 5/100\n",
            "313/313 [==============================] - 12s 38ms/step - loss: 0.6325 - accuracy: 0.6975 - val_loss: 0.6063 - val_accuracy: 0.7050\n",
            "Epoch 6/100\n",
            "313/313 [==============================] - 12s 38ms/step - loss: 0.5972 - accuracy: 0.7068 - val_loss: 0.5819 - val_accuracy: 0.7180\n",
            "Epoch 7/100\n",
            "313/313 [==============================] - 12s 39ms/step - loss: 0.5738 - accuracy: 0.7284 - val_loss: 0.5597 - val_accuracy: 0.7292\n",
            "Epoch 8/100\n",
            "313/313 [==============================] - 12s 39ms/step - loss: 0.5498 - accuracy: 0.7449 - val_loss: 0.5385 - val_accuracy: 0.7476\n",
            "Epoch 9/100\n",
            "313/313 [==============================] - 12s 39ms/step - loss: 0.5300 - accuracy: 0.7602 - val_loss: 0.5187 - val_accuracy: 0.7620\n",
            "Epoch 10/100\n",
            "313/313 [==============================] - 12s 39ms/step - loss: 0.5113 - accuracy: 0.7710 - val_loss: 0.5026 - val_accuracy: 0.7678\n",
            "Epoch 11/100\n",
            "313/313 [==============================] - 12s 39ms/step - loss: 0.4946 - accuracy: 0.7797 - val_loss: 0.4907 - val_accuracy: 0.7762\n",
            "Epoch 12/100\n",
            "313/313 [==============================] - 12s 39ms/step - loss: 0.4804 - accuracy: 0.7842 - val_loss: 0.4761 - val_accuracy: 0.7870\n",
            "Epoch 13/100\n",
            "313/313 [==============================] - 12s 39ms/step - loss: 0.4711 - accuracy: 0.7896 - val_loss: 0.4688 - val_accuracy: 0.7864\n",
            "Epoch 14/100\n",
            "313/313 [==============================] - 12s 39ms/step - loss: 0.4635 - accuracy: 0.7930 - val_loss: 0.4608 - val_accuracy: 0.7908\n",
            "Epoch 15/100\n",
            "313/313 [==============================] - 13s 42ms/step - loss: 0.4573 - accuracy: 0.7925 - val_loss: 0.4573 - val_accuracy: 0.7916\n",
            "Epoch 16/100\n",
            "313/313 [==============================] - 12s 39ms/step - loss: 0.4510 - accuracy: 0.7951 - val_loss: 0.4519 - val_accuracy: 0.7944\n",
            "Epoch 17/100\n",
            "313/313 [==============================] - 12s 39ms/step - loss: 0.4456 - accuracy: 0.7975 - val_loss: 0.4488 - val_accuracy: 0.7940\n",
            "Epoch 18/100\n",
            "313/313 [==============================] - 12s 39ms/step - loss: 0.4427 - accuracy: 0.7997 - val_loss: 0.4469 - val_accuracy: 0.7970\n",
            "Epoch 19/100\n",
            "313/313 [==============================] - 12s 39ms/step - loss: 0.4388 - accuracy: 0.7988 - val_loss: 0.4443 - val_accuracy: 0.7970\n",
            "Epoch 20/100\n",
            "313/313 [==============================] - 13s 41ms/step - loss: 0.4378 - accuracy: 0.7983 - val_loss: 0.4412 - val_accuracy: 0.7974\n",
            "Epoch 21/100\n",
            "313/313 [==============================] - 13s 42ms/step - loss: 0.4340 - accuracy: 0.8015 - val_loss: 0.4407 - val_accuracy: 0.7972\n",
            "Epoch 22/100\n",
            "313/313 [==============================] - 13s 42ms/step - loss: 0.4325 - accuracy: 0.8037 - val_loss: 0.4380 - val_accuracy: 0.7982\n",
            "Epoch 23/100\n",
            "313/313 [==============================] - 13s 40ms/step - loss: 0.4308 - accuracy: 0.8051 - val_loss: 0.4373 - val_accuracy: 0.8042\n",
            "Epoch 24/100\n",
            "313/313 [==============================] - 12s 39ms/step - loss: 0.4263 - accuracy: 0.8062 - val_loss: 0.4368 - val_accuracy: 0.8034\n",
            "Epoch 25/100\n",
            "313/313 [==============================] - 12s 39ms/step - loss: 0.4276 - accuracy: 0.8056 - val_loss: 0.4360 - val_accuracy: 0.8050\n",
            "Epoch 26/100\n",
            "313/313 [==============================] - 12s 39ms/step - loss: 0.4254 - accuracy: 0.8080 - val_loss: 0.4361 - val_accuracy: 0.7988\n",
            "Epoch 27/100\n",
            "313/313 [==============================] - 13s 42ms/step - loss: 0.4211 - accuracy: 0.8098 - val_loss: 0.4329 - val_accuracy: 0.7996\n",
            "Epoch 28/100\n",
            "313/313 [==============================] - 13s 41ms/step - loss: 0.4230 - accuracy: 0.8066 - val_loss: 0.4322 - val_accuracy: 0.8026\n",
            "Epoch 29/100\n",
            "313/313 [==============================] - 13s 42ms/step - loss: 0.4228 - accuracy: 0.8059 - val_loss: 0.4317 - val_accuracy: 0.8030\n",
            "Epoch 30/100\n",
            "313/313 [==============================] - 13s 43ms/step - loss: 0.4201 - accuracy: 0.8087 - val_loss: 0.4350 - val_accuracy: 0.7984\n",
            "Epoch 31/100\n",
            "313/313 [==============================] - 13s 43ms/step - loss: 0.4209 - accuracy: 0.8075 - val_loss: 0.4322 - val_accuracy: 0.8030\n",
            "Epoch 32/100\n",
            "313/313 [==============================] - 13s 43ms/step - loss: 0.4179 - accuracy: 0.8092 - val_loss: 0.4297 - val_accuracy: 0.8050\n",
            "Epoch 33/100\n",
            "313/313 [==============================] - 13s 41ms/step - loss: 0.4179 - accuracy: 0.8109 - val_loss: 0.4293 - val_accuracy: 0.8056\n",
            "Epoch 34/100\n",
            "313/313 [==============================] - 13s 42ms/step - loss: 0.4170 - accuracy: 0.8084 - val_loss: 0.4301 - val_accuracy: 0.7988\n",
            "Epoch 35/100\n",
            "313/313 [==============================] - 13s 43ms/step - loss: 0.4167 - accuracy: 0.8092 - val_loss: 0.4286 - val_accuracy: 0.8054\n",
            "Epoch 36/100\n",
            "313/313 [==============================] - 13s 43ms/step - loss: 0.4157 - accuracy: 0.8098 - val_loss: 0.4308 - val_accuracy: 0.8058\n",
            "Epoch 37/100\n",
            "313/313 [==============================] - 13s 43ms/step - loss: 0.4138 - accuracy: 0.8125 - val_loss: 0.4303 - val_accuracy: 0.8060\n",
            "Epoch 38/100\n",
            "313/313 [==============================] - 13s 43ms/step - loss: 0.4134 - accuracy: 0.8114 - val_loss: 0.4290 - val_accuracy: 0.7998\n"
          ]
        }
      ]
    },
    {
      "cell_type": "code",
      "source": [
        "plt.plot(history.history['loss'])\n",
        "plt.plot(history.history['val_loss'])\n",
        "plt.xlabel('epoch')\n",
        "plt.ylabel('loss')\n",
        "plt.legend(['train', 'val'])\n",
        "plt.show()"
      ],
      "metadata": {
        "colab": {
          "base_uri": "https://localhost:8080/",
          "height": 449
        },
        "id": "eC1j3R95Q4V5",
        "outputId": "78d54526-dd03-4ec6-ab4f-a91eb11ce874"
      },
      "execution_count": null,
      "outputs": [
        {
          "output_type": "display_data",
          "data": {
            "text/plain": [
              "<Figure size 640x480 with 1 Axes>"
            ],
            "image/png": "[encoded data removed]"
          },
          "metadata": {}
        }
      ]
    },
    {
      "cell_type": "markdown",
      "source": [
        "<h3>2개의 층을 연결하기</h3>"
      ],
      "metadata": {
        "id": "vU9CPkSTQ6v_"
      }
    },
    {
      "cell_type": "code",
      "source": [
        "model3 = keras.Sequential()\n",
        "\n",
        "model3.add(keras.layers.Embedding(500, 16, input_length=100))\n",
        "model3.add(keras.layers.LSTM(8, dropout=0.3, return_sequences=True))\n",
        "model3.add(keras.layers.LSTM(8, dropout=0.3))\n",
        "model3.add(keras.layers.Dense(1, activation='sigmoid'))\n",
        "\n",
        "model3.summary()"
      ],
      "metadata": {
        "colab": {
          "base_uri": "https://localhost:8080/"
        },
        "id": "uSUZQ2W_Q9Y_",
        "outputId": "b3372dbf-e161-4b22-ac28-569e17489337"
      },
      "execution_count": null,
      "outputs": [
        {
          "output_type": "stream",
          "name": "stdout",
          "text": [
            "Model: \"sequential_2\"\n",
            "_________________________________________________________________\n",
            " Layer (type)                Output Shape              Param #   \n",
            "=================================================================\n",
            " embedding_2 (Embedding)     (None, 100, 16)           8000      \n",
            "                                                                 \n",
            " lstm_2 (LSTM)               (None, 100, 8)            800       \n",
            "                                                                 \n",
            " lstm_3 (LSTM)               (None, 8)                 544       \n",
            "                                                                 \n",
            " dense_2 (Dense)             (None, 1)                 9         \n",
            "                                                                 \n",
            "=================================================================\n",
            "Total params: 9353 (36.54 KB)\n",
            "Trainable params: 9353 (36.54 KB)\n",
            "Non-trainable params: 0 (0.00 Byte)\n",
            "_________________________________________________________________\n"
          ]
        }
      ]
    },
    {
      "cell_type": "code",
      "source": [
        "rmsprop = keras.optimizers.RMSprop(learning_rate=1e-4)\n",
        "model3.compile(optimizer=rmsprop, loss='binary_crossentropy',\n",
        "               metrics=['accuracy'])\n",
        "\n",
        "checkpoint_cb = keras.callbacks.ModelCheckpoint('best-2rnn-model.h5',\n",
        "                                                save_best_only=True)\n",
        "early_stopping_cb = keras.callbacks.EarlyStopping(patience=3,\n",
        "                                                  restore_best_weights=True)\n",
        "\n",
        "history = model3.fit(train_seq, train_target, epochs=100, batch_size=64,\n",
        "                     validation_data=(val_seq, val_target),\n",
        "                     callbacks=[checkpoint_cb, early_stopping_cb])"
      ],
      "metadata": {
        "colab": {
          "base_uri": "https://localhost:8080/"
        },
        "id": "eEbimfZSRA94",
        "outputId": "f3d40aeb-83ca-408c-d74d-92c59ca17452"
      },
      "execution_count": null,
      "outputs": [
        {
          "output_type": "stream",
          "name": "stdout",
          "text": [
            "Epoch 1/100\n",
            "313/313 [==============================] - 30s 84ms/step - loss: 0.6931 - accuracy: 0.5132 - val_loss: 0.6931 - val_accuracy: 0.4898\n",
            "Epoch 2/100\n",
            "313/313 [==============================] - 24s 76ms/step - loss: 0.6928 - accuracy: 0.5178 - val_loss: 0.6928 - val_accuracy: 0.5016\n",
            "Epoch 3/100\n",
            "313/313 [==============================] - 24s 76ms/step - loss: 0.6924 - accuracy: 0.5472 - val_loss: 0.6922 - val_accuracy: 0.5134\n",
            "Epoch 4/100\n",
            "313/313 [==============================] - 24s 77ms/step - loss: 0.6910 - accuracy: 0.5701 - val_loss: 0.6894 - val_accuracy: 0.6168\n",
            "Epoch 5/100\n",
            "313/313 [==============================] - 24s 77ms/step - loss: 0.6817 - accuracy: 0.6330 - val_loss: 0.6667 - val_accuracy: 0.6584\n",
            "Epoch 6/100\n",
            "313/313 [==============================] - 24s 77ms/step - loss: 0.6206 - accuracy: 0.6809 - val_loss: 0.5866 - val_accuracy: 0.6946\n",
            "Epoch 7/100\n",
            "313/313 [==============================] - 24s 77ms/step - loss: 0.5669 - accuracy: 0.7179 - val_loss: 0.5501 - val_accuracy: 0.7286\n",
            "Epoch 8/100\n",
            "313/313 [==============================] - 24s 77ms/step - loss: 0.5362 - accuracy: 0.7416 - val_loss: 0.5273 - val_accuracy: 0.7352\n",
            "Epoch 9/100\n",
            "313/313 [==============================] - 25s 79ms/step - loss: 0.5145 - accuracy: 0.7564 - val_loss: 0.5062 - val_accuracy: 0.7500\n",
            "Epoch 10/100\n",
            "313/313 [==============================] - 25s 80ms/step - loss: 0.4989 - accuracy: 0.7674 - val_loss: 0.4914 - val_accuracy: 0.7690\n",
            "Epoch 11/100\n",
            "313/313 [==============================] - 25s 80ms/step - loss: 0.4859 - accuracy: 0.7759 - val_loss: 0.4818 - val_accuracy: 0.7722\n",
            "Epoch 12/100\n",
            "313/313 [==============================] - 24s 78ms/step - loss: 0.4784 - accuracy: 0.7789 - val_loss: 0.4755 - val_accuracy: 0.7796\n",
            "Epoch 13/100\n",
            "313/313 [==============================] - 25s 78ms/step - loss: 0.4701 - accuracy: 0.7815 - val_loss: 0.4689 - val_accuracy: 0.7844\n",
            "Epoch 14/100\n",
            "313/313 [==============================] - 25s 80ms/step - loss: 0.4636 - accuracy: 0.7866 - val_loss: 0.4613 - val_accuracy: 0.7820\n",
            "Epoch 15/100\n",
            "313/313 [==============================] - 24s 78ms/step - loss: 0.4553 - accuracy: 0.7929 - val_loss: 0.4624 - val_accuracy: 0.7858\n",
            "Epoch 16/100\n",
            "313/313 [==============================] - 25s 78ms/step - loss: 0.4543 - accuracy: 0.7907 - val_loss: 0.4533 - val_accuracy: 0.7892\n",
            "Epoch 17/100\n",
            "313/313 [==============================] - 24s 78ms/step - loss: 0.4496 - accuracy: 0.7950 - val_loss: 0.4541 - val_accuracy: 0.7908\n",
            "Epoch 18/100\n",
            "313/313 [==============================] - 24s 78ms/step - loss: 0.4464 - accuracy: 0.7948 - val_loss: 0.4515 - val_accuracy: 0.7886\n",
            "Epoch 19/100\n",
            "313/313 [==============================] - 24s 77ms/step - loss: 0.4456 - accuracy: 0.7973 - val_loss: 0.4469 - val_accuracy: 0.7926\n",
            "Epoch 20/100\n",
            "313/313 [==============================] - 25s 79ms/step - loss: 0.4402 - accuracy: 0.7958 - val_loss: 0.4457 - val_accuracy: 0.7888\n",
            "Epoch 21/100\n",
            "313/313 [==============================] - 24s 76ms/step - loss: 0.4406 - accuracy: 0.7992 - val_loss: 0.4434 - val_accuracy: 0.7924\n",
            "Epoch 22/100\n",
            "313/313 [==============================] - 24s 76ms/step - loss: 0.4360 - accuracy: 0.8002 - val_loss: 0.4465 - val_accuracy: 0.7858\n",
            "Epoch 23/100\n",
            "313/313 [==============================] - 24s 76ms/step - loss: 0.4367 - accuracy: 0.7995 - val_loss: 0.4410 - val_accuracy: 0.7940\n",
            "Epoch 24/100\n",
            "313/313 [==============================] - 24s 78ms/step - loss: 0.4351 - accuracy: 0.8001 - val_loss: 0.4408 - val_accuracy: 0.7904\n",
            "Epoch 25/100\n",
            "313/313 [==============================] - 24s 77ms/step - loss: 0.4318 - accuracy: 0.8028 - val_loss: 0.4433 - val_accuracy: 0.7960\n",
            "Epoch 26/100\n",
            "313/313 [==============================] - 24s 77ms/step - loss: 0.4313 - accuracy: 0.8058 - val_loss: 0.4392 - val_accuracy: 0.7922\n",
            "Epoch 27/100\n",
            "313/313 [==============================] - 24s 77ms/step - loss: 0.4302 - accuracy: 0.8026 - val_loss: 0.4384 - val_accuracy: 0.7934\n",
            "Epoch 28/100\n",
            "313/313 [==============================] - 24s 76ms/step - loss: 0.4290 - accuracy: 0.8041 - val_loss: 0.4432 - val_accuracy: 0.7894\n",
            "Epoch 29/100\n",
            "313/313 [==============================] - 24s 76ms/step - loss: 0.4278 - accuracy: 0.8044 - val_loss: 0.4362 - val_accuracy: 0.7970\n",
            "Epoch 30/100\n",
            "313/313 [==============================] - 24s 77ms/step - loss: 0.4277 - accuracy: 0.8053 - val_loss: 0.4361 - val_accuracy: 0.7950\n",
            "Epoch 31/100\n",
            "313/313 [==============================] - 24s 76ms/step - loss: 0.4265 - accuracy: 0.8051 - val_loss: 0.4362 - val_accuracy: 0.7922\n",
            "Epoch 32/100\n",
            "313/313 [==============================] - 24s 76ms/step - loss: 0.4264 - accuracy: 0.8055 - val_loss: 0.4371 - val_accuracy: 0.7908\n",
            "Epoch 33/100\n",
            "313/313 [==============================] - 24s 76ms/step - loss: 0.4246 - accuracy: 0.8060 - val_loss: 0.4361 - val_accuracy: 0.7974\n",
            "Epoch 34/100\n",
            "313/313 [==============================] - 23s 74ms/step - loss: 0.4246 - accuracy: 0.8061 - val_loss: 0.4377 - val_accuracy: 0.7924\n",
            "Epoch 35/100\n",
            "313/313 [==============================] - 23s 73ms/step - loss: 0.4229 - accuracy: 0.8058 - val_loss: 0.4352 - val_accuracy: 0.7964\n",
            "Epoch 36/100\n",
            "313/313 [==============================] - 24s 76ms/step - loss: 0.4217 - accuracy: 0.8077 - val_loss: 0.4337 - val_accuracy: 0.7990\n",
            "Epoch 37/100\n",
            "313/313 [==============================] - 24s 76ms/step - loss: 0.4221 - accuracy: 0.8090 - val_loss: 0.4337 - val_accuracy: 0.8016\n",
            "Epoch 38/100\n",
            "313/313 [==============================] - 24s 75ms/step - loss: 0.4202 - accuracy: 0.8085 - val_loss: 0.4322 - val_accuracy: 0.8020\n",
            "Epoch 39/100\n",
            "313/313 [==============================] - 24s 76ms/step - loss: 0.4182 - accuracy: 0.8116 - val_loss: 0.4321 - val_accuracy: 0.8000\n",
            "Epoch 40/100\n",
            "313/313 [==============================] - 24s 77ms/step - loss: 0.4198 - accuracy: 0.8092 - val_loss: 0.4323 - val_accuracy: 0.7998\n",
            "Epoch 41/100\n",
            "313/313 [==============================] - 24s 76ms/step - loss: 0.4207 - accuracy: 0.8073 - val_loss: 0.4319 - val_accuracy: 0.8034\n",
            "Epoch 42/100\n",
            "313/313 [==============================] - 24s 77ms/step - loss: 0.4175 - accuracy: 0.8092 - val_loss: 0.4342 - val_accuracy: 0.8022\n",
            "Epoch 43/100\n",
            "313/313 [==============================] - 24s 77ms/step - loss: 0.4182 - accuracy: 0.8090 - val_loss: 0.4323 - val_accuracy: 0.8014\n",
            "Epoch 44/100\n",
            "313/313 [==============================] - 25s 78ms/step - loss: 0.4171 - accuracy: 0.8088 - val_loss: 0.4336 - val_accuracy: 0.7946\n"
          ]
        }
      ]
    },
    {
      "cell_type": "code",
      "source": [
        "plt.plot(history.history['loss'])\n",
        "plt.plot(history.history['val_loss'])\n",
        "plt.xlabel('epoch')\n",
        "plt.ylabel('loss')\n",
        "plt.legend(['train', 'val'])\n",
        "plt.show()"
      ],
      "metadata": {
        "colab": {
          "base_uri": "https://localhost:8080/",
          "height": 449
        },
        "id": "5sxeu6yBRDe5",
        "outputId": "73d27b27-eb4f-4109-9bbf-b1424ddcf483"
      },
      "execution_count": null,
      "outputs": [
        {
          "output_type": "display_data",
          "data": {
            "text/plain": [
              "<Figure size 640x480 with 1 Axes>"
            ],
            "image/png": "[encoded data removed]"
          },
          "metadata": {}
        }
      ]
    },
    {
      "cell_type": "markdown",
      "source": [
        "<h3>GRU 신경망 훈련하기</h3>"
      ],
      "metadata": {
        "id": "TuEVArXRRFzD"
      }
    },
    {
      "cell_type": "code",
      "source": [
        "model4 = keras.Sequential()\n",
        "\n",
        "model4.add(keras.layers.Embedding(500, 16, input_length=100))\n",
        "model4.add(keras.layers.GRU(8))\n",
        "model4.add(keras.layers.Dense(1, activation='sigmoid'))\n",
        "\n",
        "model4.summary()"
      ],
      "metadata": {
        "colab": {
          "base_uri": "https://localhost:8080/"
        },
        "id": "tKyXK2jfRL1k",
        "outputId": "2bb4f295-5f10-495c-ebfa-119ecbcb2acb"
      },
      "execution_count": null,
      "outputs": [
        {
          "output_type": "stream",
          "name": "stdout",
          "text": [
            "Model: \"sequential_3\"\n",
            "_________________________________________________________________\n",
            " Layer (type)                Output Shape              Param #   \n",
            "=================================================================\n",
            " embedding_3 (Embedding)     (None, 100, 16)           8000      \n",
            "                                                                 \n",
            " gru (GRU)                   (None, 8)                 624       \n",
            "                                                                 \n",
            " dense_3 (Dense)             (None, 1)                 9         \n",
            "                                                                 \n",
            "=================================================================\n",
            "Total params: 8633 (33.72 KB)\n",
            "Trainable params: 8633 (33.72 KB)\n",
            "Non-trainable params: 0 (0.00 Byte)\n",
            "_________________________________________________________________\n"
          ]
        }
      ]
    },
    {
      "cell_type": "code",
      "source": [
        "rmsprop = keras.optimizers.RMSprop(learning_rate=1e-4)\n",
        "model4.compile(optimizer=rmsprop, loss='binary_crossentropy',\n",
        "               metrics=['accuracy'])\n",
        "\n",
        "checkpoint_cb = keras.callbacks.ModelCheckpoint('best-gru-model.h5',\n",
        "                                                save_best_only=True)\n",
        "early_stopping_cb = keras.callbacks.EarlyStopping(patience=3,\n",
        "                                                  restore_best_weights=True)\n",
        "\n",
        "history = model4.fit(train_seq, train_target, epochs=100, batch_size=64,\n",
        "                     validation_data=(val_seq, val_target),\n",
        "                     callbacks=[checkpoint_cb, early_stopping_cb])"
      ],
      "metadata": {
        "colab": {
          "base_uri": "https://localhost:8080/"
        },
        "id": "o-05fEr4ROf3",
        "outputId": "ed969113-c8b5-498f-f35d-6b7275d534d8"
      },
      "execution_count": null,
      "outputs": [
        {
          "output_type": "stream",
          "name": "stdout",
          "text": [
            "Epoch 1/100\n",
            "313/313 [==============================] - 17s 46ms/step - loss: 0.6922 - accuracy: 0.5291 - val_loss: 0.6913 - val_accuracy: 0.5562\n",
            "Epoch 2/100\n",
            "313/313 [==============================] - 13s 43ms/step - loss: 0.6901 - accuracy: 0.5709 - val_loss: 0.6889 - val_accuracy: 0.5824\n",
            "Epoch 3/100\n",
            "313/313 [==============================] - 13s 42ms/step - loss: 0.6867 - accuracy: 0.5936 - val_loss: 0.6847 - val_accuracy: 0.5936\n",
            "Epoch 4/100\n",
            "313/313 [==============================] - 14s 45ms/step - loss: 0.6806 - accuracy: 0.6134 - val_loss: 0.6770 - val_accuracy: 0.6096\n",
            "Epoch 5/100\n",
            "313/313 [==============================] - 14s 45ms/step - loss: 0.6695 - accuracy: 0.6311 - val_loss: 0.6632 - val_accuracy: 0.6290\n",
            "Epoch 6/100\n",
            "313/313 [==============================] - 13s 42ms/step - loss: 0.6484 - accuracy: 0.6545 - val_loss: 0.6355 - val_accuracy: 0.6612\n",
            "Epoch 7/100\n",
            "313/313 [==============================] - 13s 42ms/step - loss: 0.6011 - accuracy: 0.6927 - val_loss: 0.5673 - val_accuracy: 0.7108\n",
            "Epoch 8/100\n",
            "313/313 [==============================] - 14s 45ms/step - loss: 0.5226 - accuracy: 0.7461 - val_loss: 0.5108 - val_accuracy: 0.7522\n",
            "Epoch 9/100\n",
            "313/313 [==============================] - 13s 43ms/step - loss: 0.4911 - accuracy: 0.7648 - val_loss: 0.4998 - val_accuracy: 0.7614\n",
            "Epoch 10/100\n",
            "313/313 [==============================] - 14s 44ms/step - loss: 0.4732 - accuracy: 0.7791 - val_loss: 0.4753 - val_accuracy: 0.7718\n",
            "Epoch 11/100\n",
            "313/313 [==============================] - 14s 45ms/step - loss: 0.4604 - accuracy: 0.7859 - val_loss: 0.4662 - val_accuracy: 0.7752\n",
            "Epoch 12/100\n",
            "313/313 [==============================] - 14s 46ms/step - loss: 0.4507 - accuracy: 0.7932 - val_loss: 0.4596 - val_accuracy: 0.7870\n",
            "Epoch 13/100\n",
            "313/313 [==============================] - 14s 45ms/step - loss: 0.4435 - accuracy: 0.7975 - val_loss: 0.4551 - val_accuracy: 0.7836\n",
            "Epoch 14/100\n",
            "313/313 [==============================] - 14s 45ms/step - loss: 0.4381 - accuracy: 0.8013 - val_loss: 0.4522 - val_accuracy: 0.7924\n",
            "Epoch 15/100\n",
            "313/313 [==============================] - 14s 45ms/step - loss: 0.4338 - accuracy: 0.8054 - val_loss: 0.4484 - val_accuracy: 0.7906\n",
            "Epoch 16/100\n",
            "313/313 [==============================] - 14s 45ms/step - loss: 0.4301 - accuracy: 0.8080 - val_loss: 0.4465 - val_accuracy: 0.7914\n",
            "Epoch 17/100\n",
            "313/313 [==============================] - 13s 43ms/step - loss: 0.4272 - accuracy: 0.8087 - val_loss: 0.4456 - val_accuracy: 0.7950\n",
            "Epoch 18/100\n",
            "313/313 [==============================] - 14s 44ms/step - loss: 0.4252 - accuracy: 0.8107 - val_loss: 0.4428 - val_accuracy: 0.7934\n",
            "Epoch 19/100\n",
            "313/313 [==============================] - 14s 44ms/step - loss: 0.4235 - accuracy: 0.8130 - val_loss: 0.4417 - val_accuracy: 0.7940\n",
            "Epoch 20/100\n",
            "313/313 [==============================] - 14s 45ms/step - loss: 0.4216 - accuracy: 0.8133 - val_loss: 0.4432 - val_accuracy: 0.7960\n",
            "Epoch 21/100\n",
            "313/313 [==============================] - 14s 45ms/step - loss: 0.4204 - accuracy: 0.8141 - val_loss: 0.4408 - val_accuracy: 0.7966\n",
            "Epoch 22/100\n",
            "313/313 [==============================] - 14s 45ms/step - loss: 0.4195 - accuracy: 0.8130 - val_loss: 0.4432 - val_accuracy: 0.7966\n",
            "Epoch 23/100\n",
            "313/313 [==============================] - 14s 44ms/step - loss: 0.4186 - accuracy: 0.8138 - val_loss: 0.4405 - val_accuracy: 0.7932\n",
            "Epoch 24/100\n",
            "313/313 [==============================] - 13s 42ms/step - loss: 0.4179 - accuracy: 0.8141 - val_loss: 0.4402 - val_accuracy: 0.7934\n",
            "Epoch 25/100\n",
            "313/313 [==============================] - 14s 44ms/step - loss: 0.4169 - accuracy: 0.8142 - val_loss: 0.4411 - val_accuracy: 0.7926\n",
            "Epoch 26/100\n",
            "313/313 [==============================] - 13s 42ms/step - loss: 0.4169 - accuracy: 0.8126 - val_loss: 0.4399 - val_accuracy: 0.7942\n",
            "Epoch 27/100\n",
            "313/313 [==============================] - 13s 42ms/step - loss: 0.4157 - accuracy: 0.8152 - val_loss: 0.4386 - val_accuracy: 0.7976\n",
            "Epoch 28/100\n",
            "313/313 [==============================] - 14s 44ms/step - loss: 0.4153 - accuracy: 0.8153 - val_loss: 0.4391 - val_accuracy: 0.7984\n",
            "Epoch 29/100\n",
            "313/313 [==============================] - 14s 45ms/step - loss: 0.4147 - accuracy: 0.8148 - val_loss: 0.4401 - val_accuracy: 0.7954\n",
            "Epoch 30/100\n",
            "313/313 [==============================] - 14s 44ms/step - loss: 0.4145 - accuracy: 0.8143 - val_loss: 0.4404 - val_accuracy: 0.7930\n"
          ]
        }
      ]
    },
    {
      "cell_type": "code",
      "source": [
        "plt.plot(history.history['loss'])\n",
        "plt.plot(history.history['val_loss'])\n",
        "plt.xlabel('epoch')\n",
        "plt.ylabel('loss')\n",
        "plt.legend(['train', 'val'])\n",
        "plt.show()"
      ],
      "metadata": {
        "colab": {
          "base_uri": "https://localhost:8080/",
          "height": 449
        },
        "id": "lnUui8t8RS12",
        "outputId": "afaf6b44-2b41-42a4-e9b4-fd0e748b60f8"
      },
      "execution_count": null,
      "outputs": [
        {
          "output_type": "display_data",
          "data": {
            "text/plain": [
              "<Figure size 640x480 with 1 Axes>"
            ],
            "image/png": "[encoded data removed]"
          },
          "metadata": {}
        }
      ]
    },
    {
      "cell_type": "markdown",
      "source": [
        "<h3>마무리</h3>"
      ],
      "metadata": {
        "id": "Bcit7Ba2RXbF"
      }
    },
    {
      "cell_type": "code",
      "source": [
        "test_seq = pad_sequences(test_input, maxlen=100)\n",
        "\n",
        "rnn_model = keras.models.load_model('best-2rnn-model.h5')\n",
        "\n",
        "rnn_model.evaluate(test_seq, test_target)"
      ],
      "metadata": {
        "colab": {
          "base_uri": "https://localhost:8080/"
        },
        "id": "_d7X3j3IRZSF",
        "outputId": "d0b01b4e-d783-41ca-d520-dd28413ed586"
      },
      "execution_count": null,
      "outputs": [
        {
          "output_type": "stream",
          "name": "stdout",
          "text": [
            "782/782 [==============================] - 13s 15ms/step - loss: 0.4261 - accuracy: 0.8011\n"
          ]
        },
        {
          "output_type": "execute_result",
          "data": {
            "text/plain": [
              "[0.42605918645858765, 0.8010799884796143]"
            ]
          },
          "metadata": {},
          "execution_count": 15
        }
      ]
    }
  ]
}